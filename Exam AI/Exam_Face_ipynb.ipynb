{
  "nbformat": 4,
  "nbformat_minor": 0,
  "metadata": {
    "colab": {
      "provenance": [],
      "gpuType": "T4"
    },
    "kernelspec": {
      "name": "python3",
      "display_name": "Python 3"
    },
    "language_info": {
      "name": "python"
    },
    "accelerator": "GPU"
  },
  "cells": [
    {
      "cell_type": "markdown",
      "source": [
        "## Зачет по ИИ\n",
        "\n",
        "**Задание**: Построить классификатор для определения эмоции человека на фотографии."
      ],
      "metadata": {
        "id": "rmKMPcTuxOmi"
      }
    },
    {
      "cell_type": "code",
      "execution_count": null,
      "metadata": {
        "id": "C6C2qMWRxL3Z"
      },
      "outputs": [],
      "source": [
        "%%bash\n",
        "wget -q https://dl.dropboxusercontent.com/s/hptn1l9jki7ie5v/emosubset.zip\n",
        "mkdir emos\n",
        "cd emos\n",
        "unzip -q ../emosubset.zip"
      ]
    },
    {
      "cell_type": "markdown",
      "source": [
        "Данный датасет содержит изображения двух классов: `angry` и `surprise`. Разбейте датасет на обучающую и тестовую выборку сбалансированным обазом и постройте модель определения эмоции. Постройте матрицу ошибок на тестовой выборке чтобы посмотреть, как работет модель.\n",
        "\n",
        "Необходимо добиться точности >75% на тестовой выборке.\n",
        "\n",
        "Удачи!"
      ],
      "metadata": {
        "id": "IsAU_B_RyYKJ"
      }
    },
    {
      "cell_type": "code",
      "source": [
        "import tensorflow as tf\n",
        "import os\n",
        "import random\n",
        "import shutil\n",
        "from tensorflow.keras.preprocessing.image import ImageDataGenerator\n",
        "from tensorflow.keras.layers import Conv2D, MaxPooling2D, Flatten, Dense, Dropout, BatchNormalization\n",
        "from tensorflow.keras import Sequential\n",
        "from tensorflow.keras.applications import VGG16"
      ],
      "metadata": {
        "id": "n8bkJOnVx1wS"
      },
      "execution_count": null,
      "outputs": []
    },
    {
      "cell_type": "code",
      "source": [
        "data_dir = './emos'\n",
        "train_dir = 'D:/emotrain1'\n",
        "test_dir = 'D:/emotest1'"
      ],
      "metadata": {
        "id": "MdlFCOOjOl_l"
      },
      "execution_count": null,
      "outputs": []
    },
    {
      "cell_type": "code",
      "source": [
        "classes = ['angry', 'surprise']"
      ],
      "metadata": {
        "id": "mYAN_zvaPaa2"
      },
      "execution_count": null,
      "outputs": []
    },
    {
      "cell_type": "code",
      "source": [
        "for class_name in classes:\n",
        "  class_dir = os.path.join(data_dir, class_name)\n",
        "  train_class_dir = os.path.join(train_dir, class_name)\n",
        "  test_class_dir = os.path.join(test_dir, class_name)\n",
        "  os.makedirs(train_class_dir, exist_ok=True)\n",
        "  os.makedirs(test_class_dir, exist_ok=True)\n",
        "  image_files = os.listdir(class_dir)\n",
        "  random.shuffle(image_files)\n",
        "  split_index = int(0.8*len(image_files))\n",
        "  train_files = image_files[:split_index]\n",
        "  test_files = image_files[split_index:]\n",
        "\n",
        "  for train_file in train_files:\n",
        "    src_path = os.path.join(class_dir, train_file)\n",
        "    dst_path = os.path.join(train_class_dir, train_file)\n",
        "    shutil.copyfile(src_path, dst_path)\n",
        "\n",
        "  for test_file in test_files:\n",
        "    src_path = os.path.join(class_dir, test_file)\n",
        "    dst_path = os.path.join(test_class_dir, test_file)\n",
        "    shutil.copyfile(src_path, dst_path)"
      ],
      "metadata": {
        "id": "frlMLCwJP0Ix"
      },
      "execution_count": null,
      "outputs": []
    },
    {
      "cell_type": "code",
      "source": [
        "train_datagen = ImageDataGenerator(rescale=1./255)\n",
        "train_generator = train_datagen.flow_from_directory(train_dir, target_size=(150,150),batch_size=32,class_mode='binary')"
      ],
      "metadata": {
        "colab": {
          "base_uri": "https://localhost:8080/"
        },
        "id": "TIHNSR7QS9V-",
        "outputId": "9c493973-3931-4b08-dc4e-6db33486654a"
      },
      "execution_count": null,
      "outputs": [
        {
          "output_type": "stream",
          "name": "stdout",
          "text": [
            "Found 525 images belonging to 2 classes.\n"
          ]
        }
      ]
    },
    {
      "cell_type": "code",
      "source": [
        "test_datagen = ImageDataGenerator(rescale=1./255)\n",
        "test_generator = test_datagen.flow_from_directory(test_dir, target_size=(150,150),batch_size=32,class_mode='binary')"
      ],
      "metadata": {
        "colab": {
          "base_uri": "https://localhost:8080/"
        },
        "id": "16kMMGFNX4lc",
        "outputId": "5b2ba960-70bd-493b-b1d1-0d26acd741aa"
      },
      "execution_count": null,
      "outputs": [
        {
          "output_type": "stream",
          "name": "stdout",
          "text": [
            "Found 257 images belonging to 2 classes.\n"
          ]
        }
      ]
    },
    {
      "cell_type": "code",
      "source": [
        "from keras.api._v2.keras import activations\n",
        "model = Sequential([\n",
        "    Conv2D(32, (3,3), activation='relu', input_shape=(150,150,3)),\n",
        "    MaxPooling2D((2,2)),\n",
        "    Conv2D(16, (3,3), activation='relu'),\n",
        "    MaxPooling2D((2,2)),\n",
        "    Conv2D(8, (3,3), activation='relu'),\n",
        "    MaxPooling2D((2,2)),\n",
        "    Flatten(),\n",
        "    Dense(64, activation='relu'),\n",
        "    Dropout(0.3),\n",
        "    Dense(1, activation='sigmoid')\n",
        "])\n",
        "model.summary()"
      ],
      "metadata": {
        "colab": {
          "base_uri": "https://localhost:8080/"
        },
        "id": "7Xs_zxaQX__G",
        "outputId": "7fc439b3-4ad8-4a70-f7b7-1e724d46bb24"
      },
      "execution_count": null,
      "outputs": [
        {
          "output_type": "stream",
          "name": "stdout",
          "text": [
            "Model: \"sequential_39\"\n",
            "_________________________________________________________________\n",
            " Layer (type)                Output Shape              Param #   \n",
            "=================================================================\n",
            " conv2d_90 (Conv2D)          (None, 148, 148, 32)      896       \n",
            "                                                                 \n",
            " max_pooling2d_84 (MaxPoolin  (None, 74, 74, 32)       0         \n",
            " g2D)                                                            \n",
            "                                                                 \n",
            " conv2d_91 (Conv2D)          (None, 72, 72, 16)        4624      \n",
            "                                                                 \n",
            " max_pooling2d_85 (MaxPoolin  (None, 36, 36, 16)       0         \n",
            " g2D)                                                            \n",
            "                                                                 \n",
            " conv2d_92 (Conv2D)          (None, 34, 34, 8)         1160      \n",
            "                                                                 \n",
            " max_pooling2d_86 (MaxPoolin  (None, 17, 17, 8)        0         \n",
            " g2D)                                                            \n",
            "                                                                 \n",
            " flatten_39 (Flatten)        (None, 2312)              0         \n",
            "                                                                 \n",
            " dense_83 (Dense)            (None, 64)                148032    \n",
            "                                                                 \n",
            " dropout_35 (Dropout)        (None, 64)                0         \n",
            "                                                                 \n",
            " dense_84 (Dense)            (None, 1)                 65        \n",
            "                                                                 \n",
            "=================================================================\n",
            "Total params: 154,777\n",
            "Trainable params: 154,777\n",
            "Non-trainable params: 0\n",
            "_________________________________________________________________\n"
          ]
        }
      ]
    },
    {
      "cell_type": "code",
      "source": [
        "model.compile(optimizer = 'adam', loss= 'binary_crossentropy', metrics = ['accuracy'])\n",
        "model.fit(train_generator, epochs=10, validation_data=test_generator)"
      ],
      "metadata": {
        "colab": {
          "base_uri": "https://localhost:8080/"
        },
        "id": "Akvf3qSmaCVV",
        "outputId": "5a09f3fa-f987-4af2-cca1-458311ad5dab"
      },
      "execution_count": null,
      "outputs": [
        {
          "output_type": "stream",
          "name": "stdout",
          "text": [
            "Epoch 1/10\n",
            "17/17 [==============================] - 12s 594ms/step - loss: 0.6783 - accuracy: 0.5981 - val_loss: 0.6540 - val_accuracy: 0.6187\n",
            "Epoch 2/10\n",
            "17/17 [==============================] - 7s 410ms/step - loss: 0.6620 - accuracy: 0.6095 - val_loss: 0.6569 - val_accuracy: 0.6187\n",
            "Epoch 3/10\n",
            "17/17 [==============================] - 6s 384ms/step - loss: 0.6560 - accuracy: 0.6095 - val_loss: 0.6388 - val_accuracy: 0.6226\n",
            "Epoch 4/10\n",
            "17/17 [==============================] - 8s 464ms/step - loss: 0.6413 - accuracy: 0.6343 - val_loss: 0.6150 - val_accuracy: 0.6226\n",
            "Epoch 5/10\n",
            "17/17 [==============================] - 6s 387ms/step - loss: 0.6200 - accuracy: 0.6571 - val_loss: 0.5787 - val_accuracy: 0.6770\n",
            "Epoch 6/10\n",
            "17/17 [==============================] - 7s 444ms/step - loss: 0.5897 - accuracy: 0.6781 - val_loss: 0.5389 - val_accuracy: 0.7082\n",
            "Epoch 7/10\n",
            "17/17 [==============================] - 9s 567ms/step - loss: 0.5559 - accuracy: 0.7314 - val_loss: 0.5264 - val_accuracy: 0.7782\n",
            "Epoch 8/10\n",
            "17/17 [==============================] - 6s 386ms/step - loss: 0.5327 - accuracy: 0.7219 - val_loss: 0.4393 - val_accuracy: 0.7977\n",
            "Epoch 9/10\n",
            "17/17 [==============================] - 7s 454ms/step - loss: 0.4695 - accuracy: 0.7752 - val_loss: 0.4174 - val_accuracy: 0.8599\n",
            "Epoch 10/10\n",
            "17/17 [==============================] - 6s 387ms/step - loss: 0.4156 - accuracy: 0.8019 - val_loss: 0.3676 - val_accuracy: 0.8327\n"
          ]
        },
        {
          "output_type": "execute_result",
          "data": {
            "text/plain": [
              "<keras.callbacks.History at 0x7ff07050c4c0>"
            ]
          },
          "metadata": {},
          "execution_count": 217
        }
      ]
    }
  ]
}